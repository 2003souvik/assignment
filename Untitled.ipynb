{
 "cells": [
  {
   "cell_type": "code",
   "execution_count": 1,
   "id": "4ae594e2-8eb8-403c-8b30-72e7b32ae9a8",
   "metadata": {},
   "outputs": [
    {
     "name": "stdout",
     "output_type": "stream",
     "text": [
      "6\n"
     ]
    }
   ],
   "source": [
    "print(4+2)"
   ]
  },
  {
   "cell_type": "code",
   "execution_count": 2,
   "id": "2d01d060-4fa5-4531-bfa2-5e85b382208e",
   "metadata": {},
   "outputs": [
    {
     "name": "stdout",
     "output_type": "stream",
     "text": [
      "abcab\n"
     ]
    }
   ],
   "source": [
    "str=\"abc\"\n",
    "str=str+\"ab\"\n",
    "print(str)"
   ]
  },
  {
   "cell_type": "code",
   "execution_count": 14,
   "id": "4932f754-6528-4b6c-9925-53d4a9703b57",
   "metadata": {},
   "outputs": [
    {
     "name": "stdout",
     "output_type": "stream",
     "text": [
      "dict_values(['souvik', 'argha', 'kumar'])\n",
      "['abc', 'argha', 'kumar']\n",
      "dict_values(['abc', 'argha', 'kumar', 'tojjo'])\n"
     ]
    },
    {
     "data": {
      "text/plain": [
       "'abc'"
      ]
     },
     "execution_count": 14,
     "metadata": {},
     "output_type": "execute_result"
    }
   ],
   "source": [
    "d1={1:\"souvik\",2:\"argha\",3:\"kumar\"}\n",
    "print(d1.values())\n",
    "d1[1]=\"abc\"\n",
    "print(list(d1.values()))\n",
    "d1[5]=\"tojjo\"\n",
    "print(d1.values())\n",
    "d1.pop(1)\n"
   ]
  },
  {
   "cell_type": "code",
   "execution_count": null,
   "id": "7abe868f-5832-462e-803a-cb714364e3dc",
   "metadata": {},
   "outputs": [],
   "source": []
  }
 ],
 "metadata": {
  "kernelspec": {
   "display_name": "Python 3 (ipykernel)",
   "language": "python",
   "name": "python3"
  },
  "language_info": {
   "codemirror_mode": {
    "name": "ipython",
    "version": 3
   },
   "file_extension": ".py",
   "mimetype": "text/x-python",
   "name": "python",
   "nbconvert_exporter": "python",
   "pygments_lexer": "ipython3",
   "version": "3.10.8"
  }
 },
 "nbformat": 4,
 "nbformat_minor": 5
}
